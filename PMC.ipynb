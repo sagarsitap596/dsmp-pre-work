{
  "nbformat": 4,
  "nbformat_minor": 0,
  "metadata": {
    "kernelspec": {
      "display_name": "Python 3",
      "language": "python",
      "name": "python3"
    },
    "language_info": {
      "codemirror_mode": {
        "name": "ipython",
        "version": 3
      },
      "file_extension": ".py",
      "mimetype": "text/x-python",
      "name": "python",
      "nbconvert_exporter": "python",
      "pygments_lexer": "ipython3",
      "version": "3.5.6"
    },
    "colab": {
      "name": "PMC.ipynb",
      "version": "0.3.2",
      "provenance": [],
      "collapsed_sections": [],
      "toc_visible": true,
      "include_colab_link": true
    }
  },
  "cells": [
    {
      "cell_type": "markdown",
      "metadata": {
        "id": "view-in-github",
        "colab_type": "text"
      },
      "source": [
        "<a href=\"https://colab.research.google.com/github/sagarsitap596/dsmp-pre-work/blob/master/PMC.ipynb\" target=\"_parent\"><img src=\"https://colab.research.google.com/assets/colab-badge.svg\" alt=\"Open In Colab\"/></a>"
      ]
    },
    {
      "cell_type": "markdown",
      "metadata": {
        "id": "7YAxMyfl7LwG",
        "colab_type": "text"
      },
      "source": [
        "# Python Mini Challenges\n",
        "\n",
        "The most entertaining(and satisfying) way to improve your skills in a programming language is by doing challenges. Every challenge that is given in this assessment module can be solved by a bit of python programming and logical thinking.\n",
        "\n",
        "Some challenges may look easy,some may look tough but we hope you solve them all with the same vigour.\n",
        "\n",
        "All the best."
      ]
    },
    {
      "cell_type": "markdown",
      "metadata": {
        "id": "2_SeIEpW7LwH",
        "colab_type": "text"
      },
      "source": [
        "# Challenge 1: Smallest Palindrome\n",
        "\n",
        "\n",
        "Create a function called `palindrome(num)` that given a number `'num'`, finds the next smallest palindrome and returns it\n",
        "\n",
        "For eg:\n",
        "***\n",
        "**Input**\n",
        "\n",
        "```python\n",
        "palindrome(123)\n",
        "```\n",
        "\n",
        "**Output**\n",
        "```python\n",
        "131\n",
        "```\n",
        "***\n",
        "**Input**\n",
        "\n",
        "```python\n",
        "palindrome(1331)\n",
        "```\n",
        "\n",
        "**Output**\n",
        "```python\n",
        "1441\n",
        "```\n"
      ]
    },
    {
      "cell_type": "code",
      "metadata": {
        "id": "VqI0c-FY7LwI",
        "colab_type": "code",
        "colab": {
          "base_uri": "https://localhost:8080/",
          "height": 35
        },
        "outputId": "0f048ffb-b869-458f-ed66-245e2a0be66e"
      },
      "source": [
        "#Code starts here\n",
        "# Challenge 1: Smallest Palindrome\n",
        "def palindrome(num): \n",
        "  while(True):\n",
        "    num+=1\n",
        "    if(str(num) == str(num)[::-1]):\n",
        "      return num\n",
        "   \n",
        "print(palindrome(1331)) \n",
        "print(palindrome(131))\n",
        "#Code ends here        "
      ],
      "execution_count": 4,
      "outputs": [
        {
          "output_type": "execute_result",
          "data": {
            "text/plain": [
              "141"
            ]
          },
          "metadata": {
            "tags": []
          },
          "execution_count": 4
        }
      ]
    },
    {
      "cell_type": "markdown",
      "metadata": {
        "id": "EZqYSsse7LwL",
        "colab_type": "text"
      },
      "source": [
        "# Challenge 2: Anagram Scramble\n",
        "\n",
        "Create a function called `'a_scramble(str_1, str_2)'` that given the strings`'str_1'`,`'str_2'` returns `True` if a portion of `'str_1'` characters can be scrambled to match `'str2'`, else return `False`\n",
        "\n",
        "For eg:\n",
        "***\n",
        "**Input**\n",
        "\n",
        "```python\n",
        "a_scramble(\"Tom Marvolo Riddle\",\"Voldemort\")\n",
        "```\n",
        "\n",
        "**Output**\n",
        "```python\n",
        "True\n",
        "```\n",
        "***\n",
        "**Input**\n",
        "\n",
        "```python\n",
        "a_scramble(\"ticket\",\"chat\")\n",
        "```\n",
        "\n",
        "**Output**\n",
        "```python\n",
        "False\n",
        "```\n"
      ]
    },
    {
      "cell_type": "code",
      "metadata": {
        "id": "YNGfZmN_7LwL",
        "colab_type": "code",
        "colab": {
          "base_uri": "https://localhost:8080/",
          "height": 35
        },
        "outputId": "8c42d56e-5630-406a-c321-d7a9e14fcad5"
      },
      "source": [
        "#Code starts here\n",
        "def a_scramble(s1,s2):\n",
        "  for c in s2:\n",
        "    if(c.lower() not in s1.lower()):\n",
        "      return False\n",
        "  return True  \n",
        "\n",
        "print(a_scramble(\"Tom Marvolo Riddle\",\"Voldemort\"))\n",
        "print(a_scramble(\"ticket\",\"chat\"))\n",
        "#Code ends here"
      ],
      "execution_count": 8,
      "outputs": [
        {
          "output_type": "execute_result",
          "data": {
            "text/plain": [
              "False"
            ]
          },
          "metadata": {
            "tags": []
          },
          "execution_count": 8
        }
      ]
    },
    {
      "cell_type": "markdown",
      "metadata": {
        "id": "WyKiNUXO7LwN",
        "colab_type": "text"
      },
      "source": [
        "# Challenge 3: Fibonacci Check\n",
        "\n",
        "Create a function called `check_fib(num)` that checks if the given number `'num'` is part of the [fibonacci sequence](https://en.wikipedia.org/wiki/Fibonacci_number) and returns `True` if it is, else `False`\n",
        "\n",
        "For eg:\n",
        "***\n",
        "**Input**\n",
        "\n",
        "```python\n",
        "check_fib(145)\n",
        "```\n",
        "\n",
        "**Output**\n",
        "```python\n",
        "False\n",
        "```\n",
        "***\n",
        "**Input**\n",
        "\n",
        "```python\n",
        "check_fib(377)\n",
        "```\n",
        "\n",
        "**Output**\n",
        "```python\n",
        "True\n",
        "```\n",
        "\n",
        "\n"
      ]
    },
    {
      "cell_type": "code",
      "metadata": {
        "id": "lEAXCyem7LwO",
        "colab_type": "code",
        "colab": {
          "base_uri": "https://localhost:8080/",
          "height": 52
        },
        "outputId": "0c540564-e405-44ec-ded1-fb996a361881"
      },
      "source": [
        "#Importing header files\n",
        "from math import sqrt\n",
        "\n",
        "#Code starts here\n",
        "def check_fib(num):\n",
        "  temp_num=1\n",
        "  n1=0\n",
        "  n2=1\n",
        "  while(temp_num < num):\n",
        "    temp_num = n1+n2\n",
        "    n1=n2\n",
        "    n2=temp_num\n",
        "    \n",
        "    \n",
        "  if(temp_num == num):\n",
        "    return True\n",
        "  else:\n",
        "    return False\n",
        "  \n",
        "print(check_fib(145))  \n",
        "print(check_fib(377))  \n",
        "\n",
        "\n",
        "#Code ends here"
      ],
      "execution_count": 34,
      "outputs": [
        {
          "output_type": "stream",
          "text": [
            "False\n",
            "True\n"
          ],
          "name": "stdout"
        }
      ]
    },
    {
      "cell_type": "markdown",
      "metadata": {
        "id": "mGhFVRb27LwQ",
        "colab_type": "text"
      },
      "source": [
        "# Challenge 4: String Compression\n",
        "\n",
        "Write a function `compress(word)` that given a word `word` returns the string with it's letters and how many times they occur continously together.\n",
        "\n",
        "For eg:\n",
        "\n",
        "***\n",
        "**Input**\n",
        "\n",
        "```python\n",
        "a_scramble(\"abbs\")\n",
        "```\n",
        "\n",
        "**Output**\n",
        "```python\n",
        "\"a1b2s1\"\n",
        "```\n",
        "Explanation: 1 occurence of `a`, followed by 2 occurences of `b`, followed by 1 occurence of `s`\n",
        "***\n",
        "**Input**\n",
        "\n",
        "```python\n",
        "compress(\"xxcccdex\")\n",
        "```\n",
        "\n",
        "**Output**\n",
        "```python\n",
        "\"x2c3d1e1x1\"\n",
        "```\n",
        "\n",
        "Explanation: 2 occurences of `x`, followed by 3 occurences of `c`, followed by 1 occurence of `d`, followed by 1 occurence of `e`, followed by 1 occurence of `x`"
      ]
    },
    {
      "cell_type": "code",
      "metadata": {
        "id": "aUh_zjTi7LwQ",
        "colab_type": "code",
        "colab": {
          "base_uri": "https://localhost:8080/",
          "height": 52
        },
        "outputId": "86cb2ed0-fdf1-41e3-80eb-52d1fb868ebd"
      },
      "source": [
        "#Code starts here\n",
        "def compress(word):\n",
        "  result=word[0]+str(1)\n",
        "  for i in range(1,len(word)):\n",
        "    if(word[i]==result[-2]):\n",
        "      result=result[:-1]+str(int(result[-1])+1)\n",
        "    else:\n",
        "      result=result+word[i]+str(1)\n",
        "  return result\n",
        "\n",
        "\n",
        "print(compress(\"abbs\"))\n",
        "print(compress(\"xxcccdex\"))\n",
        "\n",
        "\n",
        "#Code ends here"
      ],
      "execution_count": 13,
      "outputs": [
        {
          "output_type": "stream",
          "text": [
            "a1b2s1\n",
            "x2c3d1e1x1\n"
          ],
          "name": "stdout"
        }
      ]
    },
    {
      "cell_type": "markdown",
      "metadata": {
        "id": "zo43lfhl7LwS",
        "colab_type": "text"
      },
      "source": [
        "# Challenge 5: K-Distinct\n",
        "\n",
        "Write a function `k_distinct(string,k)` that given a string `'string'` and number `'k'`, it checks whether the `'string'` has `'k'` distinct characters\n",
        "\n",
        "For eg:\n",
        "***\n",
        "**Input**\n",
        "\n",
        "```python\n",
        "k_distinct('Messoptamia',8)\n",
        "```\n",
        "\n",
        "**Output**\n",
        "```python\n",
        "True\n",
        "```\n",
        "***\n",
        "**Input**\n",
        "\n",
        "```python\n",
        "k_distinct('banana',4)\n",
        "```\n",
        "\n",
        "**Output**\n",
        "```python\n",
        "False\n",
        "```\n"
      ]
    },
    {
      "cell_type": "code",
      "metadata": {
        "id": "WFS88Rp17LwT",
        "colab_type": "code",
        "colab": {
          "base_uri": "https://localhost:8080/",
          "height": 86
        },
        "outputId": "4a85e91a-533f-451e-d1a2-ca9bacd8953f"
      },
      "source": [
        "#Code starts here\n",
        "def k_distinct(string,k):\n",
        "  distinct_values=set()\n",
        "  for c in string.lower():\n",
        "    distinct_values.add(c)\n",
        "  print(distinct_values)  \n",
        "  return len(distinct_values) == k  \n",
        "\n",
        "\n",
        "print(k_distinct('Messoptamia',8))\n",
        "print(k_distinct('banana',4))\n",
        "#Code ends here"
      ],
      "execution_count": 25,
      "outputs": [
        {
          "output_type": "stream",
          "text": [
            "{'e', 'i', 't', 's', 'a', 'o', 'm', 'p'}\n",
            "True\n",
            "{'a', 'n', 'b'}\n",
            "False\n"
          ],
          "name": "stdout"
        }
      ]
    }
  ]
}